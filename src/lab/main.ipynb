{
 "cells": [
  {
   "cell_type": "code",
   "execution_count": 1,
   "metadata": {},
   "outputs": [],
   "source": [
    "import json\n",
    "import warnings\n",
    "import pandas as pd\n",
    "import numpy as np\n",
    "import matplotlib.pyplot as plt\n",
    "\n",
    "# Torch\n",
    "import torch\n",
    "from torch import nn\n",
    "from torch import optim\n",
    "from torch.nn import functional as F\n",
    "from torch.utils.data import random_split\n",
    "from torch.utils.data import DataLoader, Dataset"
   ]
  },
  {
   "cell_type": "code",
   "execution_count": 2,
   "metadata": {},
   "outputs": [],
   "source": [
    "# model\n",
    "from model import LTSFLinear"
   ]
  },
  {
   "cell_type": "code",
   "execution_count": 3,
   "metadata": {},
   "outputs": [],
   "source": [
    "warnings.filterwarnings(\"ignore\")"
   ]
  },
  {
   "cell_type": "code",
   "execution_count": 4,
   "metadata": {},
   "outputs": [],
   "source": [
    "BATCH_SIZE = 8\n",
    "WINDOWS_SIZE = 60\n",
    "EPOCHS = 20\n",
    "TRAIN_TEST_SPLIT = 0.8\n",
    "DEVICE = torch.device(\"cuda\" if torch.cuda.is_available() else \"cpu\")\n",
    "MODEL_NAME = \"basic_ltsf_linear_wd10\""
   ]
  },
  {
   "cell_type": "markdown",
   "metadata": {},
   "source": [
    "## Data processing"
   ]
  },
  {
   "cell_type": "code",
   "execution_count": 5,
   "metadata": {},
   "outputs": [
    {
     "data": {
      "text/plain": [
       "Index(['StnPres', 'SeaPres', 'StnPresMax', 'StnPresMaxTime', 'StnPresMin',\n",
       "       'StnPresMinTime', 'Temperature', 'T Max', 'T Max Time', 'T Min',\n",
       "       'T Min Time', 'Td dew point', 'RH', 'RHMin', 'RHMinTime', 'WS', 'WD',\n",
       "       'WSGust', 'WDGust', 'WGustTime', 'Precp', 'PrecpHour', 'PrecpMax10',\n",
       "       'PrecpMax10Time', 'PrecpMax60', 'PrecpMax60Time', 'SunShine',\n",
       "       'SunshineRate', 'GloblRad', 'VisbMean', 'EvapA', 'UVI Max',\n",
       "       'UVI Max Time', 'Cloud Amount', 'TxSoil0cm', 'TxSoil5cm', 'TxSoil10cm',\n",
       "       'TxSoil20cm', 'TxSoil30cm', 'TxSoil50cm', 'TxSoil100cm'],\n",
       "      dtype='object')"
      ]
     },
     "execution_count": 5,
     "metadata": {},
     "output_type": "execute_result"
    }
   ],
   "source": [
    "df = pd.read_csv('./data/agg_data.csv')\n",
    "df.columns"
   ]
  },
  {
   "cell_type": "code",
   "execution_count": 6,
   "metadata": {},
   "outputs": [],
   "source": [
    "DROP_COL = [\"StnPresMaxTime\",\"StnPresMinTime\",\"T Max Time\",\"UVI Max Time\",\"T Min Time\",\"RHMinTime\",\"WGustTime\",\"PrecpMax10Time\",\"PrecpMax60Time\"]\n",
    "df = df.drop(DROP_COL, axis=1)"
   ]
  },
  {
   "cell_type": "code",
   "execution_count": 7,
   "metadata": {},
   "outputs": [],
   "source": [
    "df['EvapA'] = df['EvapA'].replace('/', 0)\n",
    "df['EvapA'] = df['EvapA'].astype(float)\n",
    "df['Precp'] = df['Precp'].replace('T', 0)\n",
    "df['Precp'] = df['Precp'].astype(float)\n",
    "df['UVI Max'] = df['UVI Max'].replace('X', 0)\n",
    "df['UVI Max'] = df['UVI Max'].astype(float)\n",
    "df['PrecpMax10'] = df['PrecpMax10'].replace('T', 0)\n",
    "df['PrecpMax10'] = df['PrecpMax10'].astype(float)\n",
    "df['PrecpMax60'] = df['PrecpMax60'].replace('T', 0)\n",
    "df['PrecpMax60'] = df['PrecpMax60'].astype(float)"
   ]
  },
  {
   "cell_type": "code",
   "execution_count": 8,
   "metadata": {},
   "outputs": [
    {
     "data": {
      "text/html": [
       "<div>\n",
       "<style scoped>\n",
       "    .dataframe tbody tr th:only-of-type {\n",
       "        vertical-align: middle;\n",
       "    }\n",
       "\n",
       "    .dataframe tbody tr th {\n",
       "        vertical-align: top;\n",
       "    }\n",
       "\n",
       "    .dataframe thead th {\n",
       "        text-align: right;\n",
       "    }\n",
       "</style>\n",
       "<table border=\"1\" class=\"dataframe\">\n",
       "  <thead>\n",
       "    <tr style=\"text-align: right;\">\n",
       "      <th></th>\n",
       "      <th>StnPres</th>\n",
       "      <th>SeaPres</th>\n",
       "      <th>StnPresMax</th>\n",
       "      <th>StnPresMin</th>\n",
       "      <th>Temperature</th>\n",
       "      <th>T Max</th>\n",
       "      <th>T Min</th>\n",
       "      <th>Td dew point</th>\n",
       "      <th>RH</th>\n",
       "      <th>RHMin</th>\n",
       "      <th>...</th>\n",
       "      <th>EvapA</th>\n",
       "      <th>UVI Max</th>\n",
       "      <th>Cloud Amount</th>\n",
       "      <th>TxSoil0cm</th>\n",
       "      <th>TxSoil5cm</th>\n",
       "      <th>TxSoil10cm</th>\n",
       "      <th>TxSoil20cm</th>\n",
       "      <th>TxSoil30cm</th>\n",
       "      <th>TxSoil50cm</th>\n",
       "      <th>TxSoil100cm</th>\n",
       "    </tr>\n",
       "  </thead>\n",
       "  <tbody>\n",
       "    <tr>\n",
       "      <th>0</th>\n",
       "      <td>995.6</td>\n",
       "      <td>998.0</td>\n",
       "      <td>997.6</td>\n",
       "      <td>994.0</td>\n",
       "      <td>28.3</td>\n",
       "      <td>31.8</td>\n",
       "      <td>26.7</td>\n",
       "      <td>24.5</td>\n",
       "      <td>80</td>\n",
       "      <td>66</td>\n",
       "      <td>...</td>\n",
       "      <td>-2.3</td>\n",
       "      <td>6.0</td>\n",
       "      <td>9.7</td>\n",
       "      <td>28.1</td>\n",
       "      <td>28.1</td>\n",
       "      <td>28.5</td>\n",
       "      <td>28.7</td>\n",
       "      <td>29.8</td>\n",
       "      <td>29.4</td>\n",
       "      <td>29.1</td>\n",
       "    </tr>\n",
       "    <tr>\n",
       "      <th>1</th>\n",
       "      <td>996.0</td>\n",
       "      <td>998.4</td>\n",
       "      <td>997.2</td>\n",
       "      <td>995.0</td>\n",
       "      <td>27.4</td>\n",
       "      <td>29.7</td>\n",
       "      <td>25.1</td>\n",
       "      <td>24.7</td>\n",
       "      <td>86</td>\n",
       "      <td>75</td>\n",
       "      <td>...</td>\n",
       "      <td>-3.1</td>\n",
       "      <td>9.0</td>\n",
       "      <td>8.7</td>\n",
       "      <td>27.4</td>\n",
       "      <td>27.6</td>\n",
       "      <td>28.1</td>\n",
       "      <td>28.4</td>\n",
       "      <td>29.5</td>\n",
       "      <td>29.2</td>\n",
       "      <td>29.1</td>\n",
       "    </tr>\n",
       "    <tr>\n",
       "      <th>2</th>\n",
       "      <td>996.4</td>\n",
       "      <td>998.8</td>\n",
       "      <td>998.0</td>\n",
       "      <td>994.7</td>\n",
       "      <td>28.0</td>\n",
       "      <td>30.3</td>\n",
       "      <td>26.2</td>\n",
       "      <td>25.7</td>\n",
       "      <td>87</td>\n",
       "      <td>78</td>\n",
       "      <td>...</td>\n",
       "      <td>4.3</td>\n",
       "      <td>10.0</td>\n",
       "      <td>8.3</td>\n",
       "      <td>28.0</td>\n",
       "      <td>28.0</td>\n",
       "      <td>28.2</td>\n",
       "      <td>28.3</td>\n",
       "      <td>29.3</td>\n",
       "      <td>28.9</td>\n",
       "      <td>29.0</td>\n",
       "    </tr>\n",
       "    <tr>\n",
       "      <th>3</th>\n",
       "      <td>997.6</td>\n",
       "      <td>1000.0</td>\n",
       "      <td>998.7</td>\n",
       "      <td>996.2</td>\n",
       "      <td>28.4</td>\n",
       "      <td>32.7</td>\n",
       "      <td>26.3</td>\n",
       "      <td>25.4</td>\n",
       "      <td>85</td>\n",
       "      <td>63</td>\n",
       "      <td>...</td>\n",
       "      <td>-4.1</td>\n",
       "      <td>13.0</td>\n",
       "      <td>8.7</td>\n",
       "      <td>28.4</td>\n",
       "      <td>28.2</td>\n",
       "      <td>28.5</td>\n",
       "      <td>28.5</td>\n",
       "      <td>29.5</td>\n",
       "      <td>28.9</td>\n",
       "      <td>28.9</td>\n",
       "    </tr>\n",
       "    <tr>\n",
       "      <th>4</th>\n",
       "      <td>996.8</td>\n",
       "      <td>999.2</td>\n",
       "      <td>997.7</td>\n",
       "      <td>995.8</td>\n",
       "      <td>27.1</td>\n",
       "      <td>30.3</td>\n",
       "      <td>25.7</td>\n",
       "      <td>25.7</td>\n",
       "      <td>92</td>\n",
       "      <td>77</td>\n",
       "      <td>...</td>\n",
       "      <td>-0.5</td>\n",
       "      <td>5.0</td>\n",
       "      <td>8.7</td>\n",
       "      <td>27.5</td>\n",
       "      <td>27.8</td>\n",
       "      <td>28.2</td>\n",
       "      <td>28.4</td>\n",
       "      <td>29.4</td>\n",
       "      <td>29.0</td>\n",
       "      <td>28.8</td>\n",
       "    </tr>\n",
       "  </tbody>\n",
       "</table>\n",
       "<p>5 rows × 32 columns</p>\n",
       "</div>"
      ],
      "text/plain": [
       "   StnPres  SeaPres  StnPresMax  StnPresMin  Temperature  T Max  T Min  \\\n",
       "0    995.6    998.0       997.6       994.0         28.3   31.8   26.7   \n",
       "1    996.0    998.4       997.2       995.0         27.4   29.7   25.1   \n",
       "2    996.4    998.8       998.0       994.7         28.0   30.3   26.2   \n",
       "3    997.6   1000.0       998.7       996.2         28.4   32.7   26.3   \n",
       "4    996.8    999.2       997.7       995.8         27.1   30.3   25.7   \n",
       "\n",
       "   Td dew point  RH  RHMin  ...  EvapA  UVI Max  Cloud Amount  TxSoil0cm  \\\n",
       "0          24.5  80     66  ...   -2.3      6.0           9.7       28.1   \n",
       "1          24.7  86     75  ...   -3.1      9.0           8.7       27.4   \n",
       "2          25.7  87     78  ...    4.3     10.0           8.3       28.0   \n",
       "3          25.4  85     63  ...   -4.1     13.0           8.7       28.4   \n",
       "4          25.7  92     77  ...   -0.5      5.0           8.7       27.5   \n",
       "\n",
       "   TxSoil5cm  TxSoil10cm  TxSoil20cm  TxSoil30cm  TxSoil50cm  TxSoil100cm  \n",
       "0       28.1        28.5        28.7        29.8        29.4         29.1  \n",
       "1       27.6        28.1        28.4        29.5        29.2         29.1  \n",
       "2       28.0        28.2        28.3        29.3        28.9         29.0  \n",
       "3       28.2        28.5        28.5        29.5        28.9         28.9  \n",
       "4       27.8        28.2        28.4        29.4        29.0         28.8  \n",
       "\n",
       "[5 rows x 32 columns]"
      ]
     },
     "execution_count": 8,
     "metadata": {},
     "output_type": "execute_result"
    }
   ],
   "source": [
    "df.head()"
   ]
  },
  {
   "cell_type": "code",
   "execution_count": 9,
   "metadata": {},
   "outputs": [],
   "source": [
    "TARGET = \"Temperature\""
   ]
  },
  {
   "cell_type": "markdown",
   "metadata": {},
   "source": [
    "# Make dataset"
   ]
  },
  {
   "cell_type": "code",
   "execution_count": 10,
   "metadata": {},
   "outputs": [],
   "source": [
    "class WeatherDataset(Dataset):\n",
    "    def __init__(self, df, target, window_size=30):\n",
    "        self.df = df\n",
    "        self.target = target\n",
    "        self.window_size = window_size\n",
    "        self.features = df.columns\n",
    "\n",
    "    def __len__(self):\n",
    "        return len(self.df) - self.window_size - 1\n",
    "    \n",
    "    def __getitem__(self, idx):\n",
    "        idx += self.window_size\n",
    "        window = self.df.iloc[idx-self.window_size:idx]\n",
    "        target = self.df.iloc[idx+1][self.target]\n",
    "        features = window[self.features].values\n",
    "        return features, target\n",
    "    \n",
    "dataset = WeatherDataset(df, TARGET, window_size=WINDOWS_SIZE)\n",
    "train_size = int(TRAIN_TEST_SPLIT * len(dataset))\n",
    "test_size = len(dataset) - train_size\n",
    "train_dataset, test_dataset = random_split(dataset, [train_size, test_size])\n",
    "train_dataloader = DataLoader(train_dataset, batch_size=BATCH_SIZE, shuffle=True)\n",
    "test_dataloader = DataLoader(test_dataset, batch_size=BATCH_SIZE, shuffle=True)"
   ]
  },
  {
   "cell_type": "code",
   "execution_count": 11,
   "metadata": {},
   "outputs": [
    {
     "name": "stdout",
     "output_type": "stream",
     "text": [
      "Input Shape: torch.Size([8, 60, 32]), Target Shape: torch.Size([8])\n"
     ]
    }
   ],
   "source": [
    "for idx,(features, target) in enumerate(train_dataloader):\n",
    "    print(f\"Input Shape: {features.shape}, Target Shape: {target.shape}\")\n",
    "    break"
   ]
  },
  {
   "cell_type": "code",
   "execution_count": 12,
   "metadata": {},
   "outputs": [
    {
     "name": "stdout",
     "output_type": "stream",
     "text": [
      "torch.Size([8, 1])\n"
     ]
    }
   ],
   "source": [
    "# Model\n",
    "# class WeatherModel(nn.Module):\n",
    "#     def __init__(self, input_size, hidden_size, output_size):\n",
    "#         super(WeatherModel, self).__init__()\n",
    "#         self.lstm = nn.LSTM(input_size, hidden_size, batch_first=True)\n",
    "#         self.fc = nn.Linear(hidden_size, output_size)\n",
    "        \n",
    "#     def forward(self, x):\n",
    "#         x, _ = self.lstm(x)\n",
    "#         x = self.fc(x[:, -1])\n",
    "#         return x\n",
    "\n",
    "class WeatherModel(nn.Module):\n",
    "    def __init__(self, input_size, hidden_size, output_size):\n",
    "        super(WeatherModel, self).__init__()\n",
    "        self.transformer = nn.Transformer(d_model=input_size, nhead=8, num_encoder_layers=6, num_decoder_layers=6, dim_feedforward=512, dropout=0.1)\n",
    "        self.fc = nn.Linear(input_size, output_size)\n",
    "        \n",
    "    def forward(self, x):\n",
    "        x = self.transformer(x, x)\n",
    "        x = self.fc(x)\n",
    "        x = x[:, -1]\n",
    "        return x\n",
    "    \n",
    "class WeatherModel_with_LTSF(nn.Module):\n",
    "    def __init__(self, seq_len, pred_len, enc_in):\n",
    "        super(WeatherModel_with_LTSF, self).__init__()\n",
    "        self.LTSF = LTSFLinear(configs={\"seq_len\": seq_len, \"pred_len\": pred_len, \"enc_in\": enc_in, \"individual\": False})\n",
    "        self.linear = nn.Linear(enc_in, 1)\n",
    "\n",
    "    def forward(self, x):\n",
    "        x = self.LTSF(x)\n",
    "        x = x.squeeze(1)\n",
    "        x = F.gelu(x)\n",
    "        x = self.linear(x)\n",
    "        return x\n",
    "    \n",
    "test_input = torch.randn(8, WINDOWS_SIZE, 32)\n",
    "# model = WeatherModel(WINDOWS_SIZE, 64, 1)\n",
    "model = WeatherModel_with_LTSF(WINDOWS_SIZE, 1, 32)\n",
    "out = model(test_input)\n",
    "print(out.shape)"
   ]
  },
  {
   "cell_type": "code",
   "execution_count": 13,
   "metadata": {},
   "outputs": [
    {
     "name": "stdout",
     "output_type": "stream",
     "text": [
      "Epoch: 1/20, Train Loss: 85.65221835291663, Test Loss: 42.14916025508534\n",
      "Epoch: 2/20, Train Loss: 43.557255035222965, Test Loss: 49.2299936467951\n",
      "Epoch: 3/20, Train Loss: 37.858467567798705, Test Loss: 27.803124406120993\n",
      "Epoch: 4/20, Train Loss: 27.358906956606134, Test Loss: 23.649806477806784\n",
      "Epoch: 5/20, Train Loss: 22.848706916321156, Test Loss: 17.09806033697995\n",
      "Epoch: 6/20, Train Loss: 17.697924345038658, Test Loss: 15.962894136255438\n",
      "Epoch: 7/20, Train Loss: 16.060180683468662, Test Loss: 12.748612934892828\n",
      "Epoch: 8/20, Train Loss: 12.85709930852402, Test Loss: 11.416689894416116\n",
      "Epoch: 9/20, Train Loss: 12.67766744591469, Test Loss: 10.396376913244074\n",
      "Epoch: 10/20, Train Loss: 10.334347349266674, Test Loss: 8.984522071751682\n",
      "Epoch: 11/20, Train Loss: 8.998309570689534, Test Loss: 8.932717583396219\n",
      "Epoch: 12/20, Train Loss: 9.138629394908284, Test Loss: 8.042948202653365\n",
      "Epoch: 13/20, Train Loss: 7.865708791932394, Test Loss: 7.532673396847465\n",
      "Epoch: 14/20, Train Loss: 7.577370900270897, Test Loss: 8.046209226955067\n",
      "Epoch: 15/20, Train Loss: 7.077314927134403, Test Loss: 7.003709663044322\n",
      "Epoch: 16/20, Train Loss: 6.9333095273306204, Test Loss: 6.483702594583685\n",
      "Epoch: 17/20, Train Loss: 7.28892903688342, Test Loss: 6.481640972874382\n",
      "Epoch: 18/20, Train Loss: 7.710053823021955, Test Loss: 6.201172481883656\n",
      "Epoch: 19/20, Train Loss: 6.852172161257545, Test Loss: 5.902559822255915\n",
      "Epoch: 20/20, Train Loss: 6.588820708352466, Test Loss: 7.200013705275276\n"
     ]
    }
   ],
   "source": [
    "# model = WeatherModel(len(df.columns), 64, 1).to(DEVICE)\n",
    "model = WeatherModel_with_LTSF(WINDOWS_SIZE, 1, 32).to(DEVICE)\n",
    "\n",
    "# Loss and Optimizer\n",
    "\n",
    "criterion = nn.MSELoss()\n",
    "optimizer = optim.Adam(model.parameters(), lr=0.001)\n",
    "\n",
    "# Training\n",
    "\n",
    "def train(model, dataloader, criterion, optimizer):\n",
    "    model.train()\n",
    "    running_loss = 0.0\n",
    "    for i, data in enumerate(dataloader):\n",
    "        features, target = data\n",
    "        features, target = features.float().to(DEVICE), target.float().to(DEVICE)\n",
    "        optimizer.zero_grad()\n",
    "        output = model(features)\n",
    "        loss = criterion(output, target.unsqueeze(1))\n",
    "        loss.backward()\n",
    "        optimizer.step()\n",
    "        running_loss += loss.item()\n",
    "    return running_loss / len(dataloader)\n",
    "\n",
    "def test(model, dataloader, criterion):\n",
    "    model.eval()\n",
    "    running_loss = 0.0\n",
    "    with torch.no_grad():\n",
    "        for i, data in enumerate(dataloader):\n",
    "            features, target = data\n",
    "            features, target = features.float().to(DEVICE), target.float().to(DEVICE)\n",
    "            output = model(features)\n",
    "            loss = criterion(output, target.unsqueeze(1))\n",
    "            running_loss += loss.item()\n",
    "    return running_loss / len(dataloader)\n",
    "\n",
    "train_losses = []\n",
    "test_losses = []\n",
    "\n",
    "for epoch in range(EPOCHS):\n",
    "    train_loss = train(model, train_dataloader, criterion, optimizer)\n",
    "    test_loss = test(model, test_dataloader, criterion)\n",
    "    train_losses.append(train_loss)\n",
    "    test_losses.append(test_loss)\n",
    "    print(f\"Epoch: {epoch+1}/{EPOCHS}, Train Loss: {train_loss}, Test Loss: {test_loss}\")"
   ]
  },
  {
   "cell_type": "code",
   "execution_count": 14,
   "metadata": {},
   "outputs": [
    {
     "data": {
      "image/png": "[encoded data removed]",
      "text/plain": [
       "<Figure size 640x480 with 1 Axes>"
      ]
     },
     "metadata": {},
     "output_type": "display_data"
    }
   ],
   "source": [
    "# plot\n",
    "plt.plot(train_losses, label='Train Loss')\n",
    "plt.plot(test_losses, label='Test Loss')\n",
    "plt.legend()\n",
    "plt.show()"
   ]
  },
  {
   "cell_type": "code",
   "execution_count": 15,
   "metadata": {},
   "outputs": [
    {
     "data": {
      "text/plain": [
       "15.414284706115723"
      ]
     },
     "execution_count": 15,
     "metadata": {},
     "output_type": "execute_result"
    }
   ],
   "source": [
    "# predict\n",
    "def predict(model, df, window_size=30):\n",
    "    model.eval()\n",
    "    features = df.iloc[-window_size:].values\n",
    "    features = torch.tensor(features).float().to(DEVICE)\n",
    "    with torch.no_grad():\n",
    "        pred = model(features.unsqueeze(0))\n",
    "    return pred.item()\n",
    "\n",
    "predict(model, df, window_size=WINDOWS_SIZE)"
   ]
  },
  {
   "cell_type": "code",
   "execution_count": 16,
   "metadata": {},
   "outputs": [
    {
     "name": "stdout",
     "output_type": "stream",
     "text": [
      "error of prediction temperature: +- 2.683284126825796\n"
     ]
    }
   ],
   "source": [
    "from math import sqrt\n",
    "latest_test_loss = test_losses[-1]\n",
    "print(f\"error of prediction temperature: +- {sqrt(latest_test_loss)}\")"
   ]
  },
  {
   "cell_type": "code",
   "execution_count": 17,
   "metadata": {},
   "outputs": [],
   "source": [
    "# save json\n",
    "info = {\n",
    "    \"model_name\": MODEL_NAME,\n",
    "    \"target\": TARGET,\n",
    "    \"features\": df.columns.tolist(),\n",
    "    \"window_size\": WINDOWS_SIZE,\n",
    "    \"train_test_split\": TRAIN_TEST_SPLIT,\n",
    "    \"batch_size\": BATCH_SIZE,\n",
    "    \"epochs\": EPOCHS,\n",
    "    \"device\": DEVICE.type,\n",
    "    \"train_loss\": train_losses,\n",
    "    \"test_loss\": test_losses\n",
    "}\n",
    "\n",
    "with open(f\"results/{MODEL_NAME}.json\", \"w\") as f:\n",
    "    json.dump(info, f)"
   ]
  }
 ],
 "metadata": {
  "kernelspec": {
   "display_name": "Python 3",
   "language": "python",
   "name": "python3"
  },
  "language_info": {
   "codemirror_mode": {
    "name": "ipython",
    "version": 3
   },
   "file_extension": ".py",
   "mimetype": "text/x-python",
   "name": "python",
   "nbconvert_exporter": "python",
   "pygments_lexer": "ipython3",
   "version": "3.11.8"
  }
 },
 "nbformat": 4,
 "nbformat_minor": 2
}
