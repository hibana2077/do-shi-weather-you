{
 "cells": [
  {
   "cell_type": "code",
   "execution_count": 1,
   "metadata": {},
   "outputs": [],
   "source": [
    "import json\n",
    "import warnings\n",
    "import pandas as pd\n",
    "import numpy as np\n",
    "import matplotlib.pyplot as plt\n",
    "\n",
    "# Torch\n",
    "import torch\n",
    "from torch import nn\n",
    "from torch import optim\n",
    "from torch.nn import functional as F\n",
    "from torch.utils.data import random_split\n",
    "from torch.utils.data import DataLoader, Dataset"
   ]
  },
  {
   "cell_type": "code",
   "execution_count": null,
   "metadata": {},
   "outputs": [],
   "source": [
    "# model\n",
    "from model import LTSFLinear"
   ]
  },
  {
   "cell_type": "code",
   "execution_count": null,
   "metadata": {},
   "outputs": [],
   "source": [
    "warnings.filterwarnings(\"ignore\")"
   ]
  },
  {
   "cell_type": "code",
   "execution_count": 2,
   "metadata": {},
   "outputs": [],
   "source": [
    "BATCH_SIZE = 8\n",
    "EPOCHS = 100\n",
    "TRAIN_TEST_SPLIT = 0.8\n",
    "DEVICE = torch.device(\"cuda\" if torch.cuda.is_available() else \"cpu\")\n",
    "MODEL_NAME = \"basic_transformer\""
   ]
  },
  {
   "cell_type": "markdown",
   "metadata": {},
   "source": [
    "## Data processing"
   ]
  },
  {
   "cell_type": "code",
   "execution_count": 3,
   "metadata": {},
   "outputs": [
    {
     "data": {
      "text/plain": [
       "Index(['StnPres', 'SeaPres', 'StnPresMax', 'StnPresMaxTime', 'StnPresMin',\n",
       "       'StnPresMinTime', 'Temperature', 'T Max', 'T Max Time', 'T Min',\n",
       "       'T Min Time', 'Td dew point', 'RH', 'RHMin', 'RHMinTime', 'WS', 'WD',\n",
       "       'WSGust', 'WDGust', 'WGustTime', 'Precp', 'PrecpHour', 'PrecpMax10',\n",
       "       'PrecpMax10Time', 'PrecpMax60', 'PrecpMax60Time', 'SunShine',\n",
       "       'SunshineRate', 'GloblRad', 'VisbMean', 'EvapA', 'UVI Max',\n",
       "       'UVI Max Time', 'Cloud Amount', 'TxSoil0cm', 'TxSoil5cm', 'TxSoil10cm',\n",
       "       'TxSoil20cm', 'TxSoil30cm', 'TxSoil50cm', 'TxSoil100cm'],\n",
       "      dtype='object')"
      ]
     },
     "execution_count": 3,
     "metadata": {},
     "output_type": "execute_result"
    }
   ],
   "source": [
    "df = pd.read_csv('./data/agg_data.csv')\n",
    "df.columns"
   ]
  },
  {
   "cell_type": "code",
   "execution_count": 4,
   "metadata": {},
   "outputs": [],
   "source": [
    "DROP_COL = [\"StnPresMaxTime\",\"StnPresMinTime\",\"T Max Time\",\"UVI Max Time\",\"T Min Time\",\"RHMinTime\",\"WGustTime\",\"PrecpMax10Time\",\"PrecpMax60Time\"]\n",
    "df = df.drop(DROP_COL, axis=1)"
   ]
  },
  {
   "cell_type": "code",
   "execution_count": 5,
   "metadata": {},
   "outputs": [],
   "source": [
    "df['EvapA'] = df['EvapA'].replace('/', 0)\n",
    "df['EvapA'] = df['EvapA'].astype(float)\n",
    "df['Precp'] = df['Precp'].replace('T', 0)\n",
    "df['Precp'] = df['Precp'].astype(float)\n",
    "df['PrecpMax10'] = df['PrecpMax10'].replace('T', 0)\n",
    "df['PrecpMax10'] = df['PrecpMax10'].astype(float)\n",
    "df['PrecpMax60'] = df['PrecpMax60'].replace('T', 0)\n",
    "df['PrecpMax60'] = df['PrecpMax60'].astype(float)"
   ]
  },
  {
   "cell_type": "code",
   "execution_count": 6,
   "metadata": {},
   "outputs": [
    {
     "data": {
      "text/html": [
       "<div>\n",
       "<style scoped>\n",
       "    .dataframe tbody tr th:only-of-type {\n",
       "        vertical-align: middle;\n",
       "    }\n",
       "\n",
       "    .dataframe tbody tr th {\n",
       "        vertical-align: top;\n",
       "    }\n",
       "\n",
       "    .dataframe thead th {\n",
       "        text-align: right;\n",
       "    }\n",
       "</style>\n",
       "<table border=\"1\" class=\"dataframe\">\n",
       "  <thead>\n",
       "    <tr style=\"text-align: right;\">\n",
       "      <th></th>\n",
       "      <th>StnPres</th>\n",
       "      <th>SeaPres</th>\n",
       "      <th>StnPresMax</th>\n",
       "      <th>StnPresMin</th>\n",
       "      <th>Temperature</th>\n",
       "      <th>T Max</th>\n",
       "      <th>T Min</th>\n",
       "      <th>Td dew point</th>\n",
       "      <th>RH</th>\n",
       "      <th>RHMin</th>\n",
       "      <th>...</th>\n",
       "      <th>EvapA</th>\n",
       "      <th>UVI Max</th>\n",
       "      <th>Cloud Amount</th>\n",
       "      <th>TxSoil0cm</th>\n",
       "      <th>TxSoil5cm</th>\n",
       "      <th>TxSoil10cm</th>\n",
       "      <th>TxSoil20cm</th>\n",
       "      <th>TxSoil30cm</th>\n",
       "      <th>TxSoil50cm</th>\n",
       "      <th>TxSoil100cm</th>\n",
       "    </tr>\n",
       "  </thead>\n",
       "  <tbody>\n",
       "    <tr>\n",
       "      <th>0</th>\n",
       "      <td>1011.3</td>\n",
       "      <td>1013.8</td>\n",
       "      <td>1012.5</td>\n",
       "      <td>1010.5</td>\n",
       "      <td>27.4</td>\n",
       "      <td>32.2</td>\n",
       "      <td>24.7</td>\n",
       "      <td>25.3</td>\n",
       "      <td>89</td>\n",
       "      <td>62</td>\n",
       "      <td>...</td>\n",
       "      <td>5.3</td>\n",
       "      <td>9</td>\n",
       "      <td>3.0</td>\n",
       "      <td>27.9</td>\n",
       "      <td>27.9</td>\n",
       "      <td>27.7</td>\n",
       "      <td>27.7</td>\n",
       "      <td>28.5</td>\n",
       "      <td>27.8</td>\n",
       "      <td>27.7</td>\n",
       "    </tr>\n",
       "    <tr>\n",
       "      <th>1</th>\n",
       "      <td>1011.1</td>\n",
       "      <td>1013.6</td>\n",
       "      <td>1012.4</td>\n",
       "      <td>1010.0</td>\n",
       "      <td>27.7</td>\n",
       "      <td>31.5</td>\n",
       "      <td>24.7</td>\n",
       "      <td>25.5</td>\n",
       "      <td>88</td>\n",
       "      <td>63</td>\n",
       "      <td>...</td>\n",
       "      <td>4.2</td>\n",
       "      <td>9</td>\n",
       "      <td>0.8</td>\n",
       "      <td>28.3</td>\n",
       "      <td>28.3</td>\n",
       "      <td>27.7</td>\n",
       "      <td>27.7</td>\n",
       "      <td>28.6</td>\n",
       "      <td>27.9</td>\n",
       "      <td>27.8</td>\n",
       "    </tr>\n",
       "    <tr>\n",
       "      <th>2</th>\n",
       "      <td>1010.8</td>\n",
       "      <td>1013.3</td>\n",
       "      <td>1012.1</td>\n",
       "      <td>1009.6</td>\n",
       "      <td>27.6</td>\n",
       "      <td>31.2</td>\n",
       "      <td>25.0</td>\n",
       "      <td>25.5</td>\n",
       "      <td>89</td>\n",
       "      <td>67</td>\n",
       "      <td>...</td>\n",
       "      <td>4.9</td>\n",
       "      <td>9</td>\n",
       "      <td>2.6</td>\n",
       "      <td>28.3</td>\n",
       "      <td>28.3</td>\n",
       "      <td>27.9</td>\n",
       "      <td>27.9</td>\n",
       "      <td>28.7</td>\n",
       "      <td>28.0</td>\n",
       "      <td>27.8</td>\n",
       "    </tr>\n",
       "    <tr>\n",
       "      <th>3</th>\n",
       "      <td>1011.0</td>\n",
       "      <td>1013.5</td>\n",
       "      <td>1012.8</td>\n",
       "      <td>1009.5</td>\n",
       "      <td>28.1</td>\n",
       "      <td>32.1</td>\n",
       "      <td>25.1</td>\n",
       "      <td>24.9</td>\n",
       "      <td>83</td>\n",
       "      <td>62</td>\n",
       "      <td>...</td>\n",
       "      <td>-5.7</td>\n",
       "      <td>9</td>\n",
       "      <td>1.8</td>\n",
       "      <td>28.4</td>\n",
       "      <td>28.4</td>\n",
       "      <td>27.9</td>\n",
       "      <td>27.9</td>\n",
       "      <td>28.8</td>\n",
       "      <td>28.1</td>\n",
       "      <td>27.9</td>\n",
       "    </tr>\n",
       "    <tr>\n",
       "      <th>4</th>\n",
       "      <td>1012.6</td>\n",
       "      <td>1015.1</td>\n",
       "      <td>1014.6</td>\n",
       "      <td>1011.0</td>\n",
       "      <td>27.0</td>\n",
       "      <td>31.2</td>\n",
       "      <td>24.5</td>\n",
       "      <td>24.3</td>\n",
       "      <td>86</td>\n",
       "      <td>64</td>\n",
       "      <td>...</td>\n",
       "      <td>-5.3</td>\n",
       "      <td>10</td>\n",
       "      <td>5.8</td>\n",
       "      <td>28.0</td>\n",
       "      <td>28.0</td>\n",
       "      <td>27.8</td>\n",
       "      <td>27.9</td>\n",
       "      <td>28.8</td>\n",
       "      <td>28.1</td>\n",
       "      <td>28.0</td>\n",
       "    </tr>\n",
       "  </tbody>\n",
       "</table>\n",
       "<p>5 rows × 32 columns</p>\n",
       "</div>"
      ],
      "text/plain": [
       "   StnPres  SeaPres  StnPresMax  StnPresMin  Temperature  T Max  T Min  \\\n",
       "0   1011.3   1013.8      1012.5      1010.5         27.4   32.2   24.7   \n",
       "1   1011.1   1013.6      1012.4      1010.0         27.7   31.5   24.7   \n",
       "2   1010.8   1013.3      1012.1      1009.6         27.6   31.2   25.0   \n",
       "3   1011.0   1013.5      1012.8      1009.5         28.1   32.1   25.1   \n",
       "4   1012.6   1015.1      1014.6      1011.0         27.0   31.2   24.5   \n",
       "\n",
       "   Td dew point  RH  RHMin  ...  EvapA  UVI Max  Cloud Amount  TxSoil0cm  \\\n",
       "0          25.3  89     62  ...    5.3        9           3.0       27.9   \n",
       "1          25.5  88     63  ...    4.2        9           0.8       28.3   \n",
       "2          25.5  89     67  ...    4.9        9           2.6       28.3   \n",
       "3          24.9  83     62  ...   -5.7        9           1.8       28.4   \n",
       "4          24.3  86     64  ...   -5.3       10           5.8       28.0   \n",
       "\n",
       "   TxSoil5cm  TxSoil10cm  TxSoil20cm  TxSoil30cm  TxSoil50cm  TxSoil100cm  \n",
       "0       27.9        27.7        27.7        28.5        27.8         27.7  \n",
       "1       28.3        27.7        27.7        28.6        27.9         27.8  \n",
       "2       28.3        27.9        27.9        28.7        28.0         27.8  \n",
       "3       28.4        27.9        27.9        28.8        28.1         27.9  \n",
       "4       28.0        27.8        27.9        28.8        28.1         28.0  \n",
       "\n",
       "[5 rows x 32 columns]"
      ]
     },
     "execution_count": 6,
     "metadata": {},
     "output_type": "execute_result"
    }
   ],
   "source": [
    "df.head()"
   ]
  },
  {
   "cell_type": "code",
   "execution_count": 7,
   "metadata": {},
   "outputs": [],
   "source": [
    "TARGET = \"Temperature\""
   ]
  },
  {
   "cell_type": "markdown",
   "metadata": {},
   "source": [
    "# Make dataset"
   ]
  },
  {
   "cell_type": "code",
   "execution_count": 8,
   "metadata": {},
   "outputs": [],
   "source": [
    "class WeatherDataset(Dataset):\n",
    "    def __init__(self, df, target, window_size=30):\n",
    "        self.df = df\n",
    "        self.target = target\n",
    "        self.window_size = window_size\n",
    "        self.features = df.columns\n",
    "\n",
    "    def __len__(self):\n",
    "        return len(self.df) - self.window_size - 1\n",
    "    \n",
    "    def __getitem__(self, idx):\n",
    "        idx += self.window_size\n",
    "        window = self.df.iloc[idx-self.window_size:idx]\n",
    "        target = self.df.iloc[idx+1][self.target]\n",
    "        features = window[self.features].values\n",
    "        return features, target\n",
    "    \n",
    "dataset = WeatherDataset(df, TARGET)\n",
    "train_size = int(TRAIN_TEST_SPLIT * len(dataset))\n",
    "test_size = len(dataset) - train_size\n",
    "train_dataset, test_dataset = random_split(dataset, [train_size, test_size])\n",
    "train_dataloader = DataLoader(train_dataset, batch_size=BATCH_SIZE, shuffle=True)\n",
    "test_dataloader = DataLoader(test_dataset, batch_size=BATCH_SIZE, shuffle=True)"
   ]
  },
  {
   "cell_type": "code",
   "execution_count": 9,
   "metadata": {},
   "outputs": [
    {
     "name": "stdout",
     "output_type": "stream",
     "text": [
      "Input Shape: torch.Size([8, 30, 32]), Target Shape: torch.Size([8])\n"
     ]
    }
   ],
   "source": [
    "for idx,(features, target) in enumerate(train_dataloader):\n",
    "    print(f\"Input Shape: {features.shape}, Target Shape: {target.shape}\")\n",
    "    break"
   ]
  },
  {
   "cell_type": "code",
   "execution_count": 10,
   "metadata": {},
   "outputs": [
    {
     "name": "stdout",
     "output_type": "stream",
     "text": [
      "torch.Size([8, 1])\n"
     ]
    },
    {
     "name": "stderr",
     "output_type": "stream",
     "text": [
      "c:\\Program Files\\Python311\\Lib\\site-packages\\torch\\nn\\modules\\transformer.py:286: UserWarning: enable_nested_tensor is True, but self.use_nested_tensor is False because encoder_layer.self_attn.batch_first was not True(use batch_first for better inference performance)\n",
      "  warnings.warn(f\"enable_nested_tensor is True, but self.use_nested_tensor is False because {why_not_sparsity_fast_path}\")\n"
     ]
    }
   ],
   "source": [
    "# Model\n",
    "# class WeatherModel(nn.Module):\n",
    "#     def __init__(self, input_size, hidden_size, output_size):\n",
    "#         super(WeatherModel, self).__init__()\n",
    "#         self.lstm = nn.LSTM(input_size, hidden_size, batch_first=True)\n",
    "#         self.fc = nn.Linear(hidden_size, output_size)\n",
    "        \n",
    "#     def forward(self, x):\n",
    "#         x, _ = self.lstm(x)\n",
    "#         x = self.fc(x[:, -1])\n",
    "#         return x\n",
    "\n",
    "class WeatherModel(nn.Module):\n",
    "    def __init__(self, input_size, hidden_size, output_size):\n",
    "        super(WeatherModel, self).__init__()\n",
    "        self.transformer = nn.Transformer(d_model=input_size, nhead=8, num_encoder_layers=6, num_decoder_layers=6, dim_feedforward=512, dropout=0.1)\n",
    "        self.fc = nn.Linear(input_size, output_size)\n",
    "        \n",
    "    def forward(self, x):\n",
    "        x = self.transformer(x, x)\n",
    "        x = self.fc(x)\n",
    "        x = x[:, -1]\n",
    "        return x\n",
    "    \n",
    "test_input = torch.randn(8, 30, 32)\n",
    "model = WeatherModel(32, 64, 1)\n",
    "out = model(test_input)\n",
    "print(out.shape)"
   ]
  },
  {
   "cell_type": "code",
   "execution_count": 11,
   "metadata": {},
   "outputs": [
    {
     "name": "stderr",
     "output_type": "stream",
     "text": [
      "c:\\Program Files\\Python311\\Lib\\site-packages\\torch\\nn\\functional.py:5476: UserWarning: 1Torch was not compiled with flash attention. (Triggered internally at ..\\aten\\src\\ATen\\native\\transformers\\cuda\\sdp_utils.cpp:263.)\n",
      "  attn_output = scaled_dot_product_attention(q, k, v, attn_mask, dropout_p, is_causal)\n"
     ]
    },
    {
     "name": "stdout",
     "output_type": "stream",
     "text": [
      "Epoch: 1/100, Train Loss: 346.81058303169584, Test Loss: 328.5567105611165\n",
      "Epoch: 2/100, Train Loss: 277.4650941931683, Test Loss: 254.79634475708008\n",
      "Epoch: 3/100, Train Loss: 212.05704033893088, Test Loss: 195.47776730855307\n",
      "Epoch: 4/100, Train Loss: 149.21894048607868, Test Loss: 135.40589714050293\n",
      "Epoch: 5/100, Train Loss: 97.73387328438137, Test Loss: 85.45334307352702\n",
      "Epoch: 6/100, Train Loss: 62.16956553251847, Test Loss: 57.27727794647217\n",
      "Epoch: 7/100, Train Loss: 42.49302546874337, Test Loss: 42.674487272898354\n",
      "Epoch: 8/100, Train Loss: 33.45855316908463, Test Loss: 35.597843964894615\n",
      "Epoch: 9/100, Train Loss: 30.4512824182925, Test Loss: 34.899069945017494\n",
      "Epoch: 10/100, Train Loss: 29.52313769381979, Test Loss: 32.174587885538735\n",
      "Epoch: 11/100, Train Loss: 28.984818603681482, Test Loss: 32.66836945215861\n",
      "Epoch: 12/100, Train Loss: 29.231108375217605, Test Loss: 31.458765506744385\n",
      "Epoch: 13/100, Train Loss: 29.25267107590385, Test Loss: 33.615482807159424\n",
      "Epoch: 14/100, Train Loss: 28.982370936352275, Test Loss: 31.288398106892902\n",
      "Epoch: 15/100, Train Loss: 29.06872556520545, Test Loss: 31.350210030873615\n",
      "Epoch: 16/100, Train Loss: 29.14137939784838, Test Loss: 31.406473636627197\n",
      "Epoch: 17/100, Train Loss: 29.134978232176408, Test Loss: 31.7295880317688\n",
      "Epoch: 18/100, Train Loss: 28.919837329698645, Test Loss: 31.257441997528076\n",
      "Epoch: 19/100, Train Loss: 29.163649538288947, Test Loss: 32.923954804738365\n",
      "Epoch: 20/100, Train Loss: 29.014234459918477, Test Loss: 33.414904753367104\n",
      "Epoch: 21/100, Train Loss: 28.807184426680855, Test Loss: 30.8981990814209\n",
      "Epoch: 22/100, Train Loss: 28.984520704849906, Test Loss: 30.96650497118632\n",
      "Epoch: 23/100, Train Loss: 28.99850675334101, Test Loss: 31.706908464431763\n",
      "Epoch: 24/100, Train Loss: 29.052980236385178, Test Loss: 31.541152636210125\n",
      "Epoch: 25/100, Train Loss: 29.279869224714197, Test Loss: 31.626779397328693\n",
      "Epoch: 26/100, Train Loss: 29.15647180184074, Test Loss: 31.647211233774822\n",
      "Epoch: 27/100, Train Loss: 29.072963382886805, Test Loss: 31.856898148854572\n",
      "Epoch: 28/100, Train Loss: 29.22857601746269, Test Loss: 31.65184958775838\n",
      "Epoch: 29/100, Train Loss: 29.035175593002982, Test Loss: 32.11256790161133\n",
      "Epoch: 30/100, Train Loss: 28.968590964441713, Test Loss: 31.800403277079266\n",
      "Epoch: 31/100, Train Loss: 29.191347702689793, Test Loss: 31.607990225156147\n",
      "Epoch: 32/100, Train Loss: 28.927725605342697, Test Loss: 32.427199840545654\n",
      "Epoch: 33/100, Train Loss: 29.41768818316252, Test Loss: 32.43113708496094\n",
      "Epoch: 34/100, Train Loss: 29.274729065273117, Test Loss: 31.135976791381836\n",
      "Epoch: 35/100, Train Loss: 29.28426866946013, Test Loss: 32.210932890574135\n",
      "Epoch: 36/100, Train Loss: 29.06186232359513, Test Loss: 31.205658117930096\n",
      "Epoch: 37/100, Train Loss: 29.38159996530284, Test Loss: 31.22705014546712\n",
      "Epoch: 38/100, Train Loss: 29.02216380575429, Test Loss: 31.15881633758545\n",
      "Epoch: 39/100, Train Loss: 29.130873555722445, Test Loss: 32.011619567871094\n",
      "Epoch: 40/100, Train Loss: 29.073920332867168, Test Loss: 31.60037287076314\n",
      "Epoch: 41/100, Train Loss: 28.687123215716817, Test Loss: 31.64328956604004\n",
      "Epoch: 42/100, Train Loss: 29.246624055116072, Test Loss: 31.751195828119915\n",
      "Epoch: 43/100, Train Loss: 29.204559243243672, Test Loss: 31.804147322972614\n",
      "Epoch: 44/100, Train Loss: 29.05380263535873, Test Loss: 31.512613515059154\n",
      "Epoch: 45/100, Train Loss: 28.898689891981043, Test Loss: 31.33946967124939\n",
      "Epoch: 46/100, Train Loss: 29.147610083870266, Test Loss: 33.379759311676025\n",
      "Epoch: 47/100, Train Loss: 29.044208547343377, Test Loss: 32.615146001180015\n",
      "Epoch: 48/100, Train Loss: 29.004700121672258, Test Loss: 33.96170949935913\n",
      "Epoch: 49/100, Train Loss: 29.088574378386788, Test Loss: 32.017660776774086\n",
      "Epoch: 50/100, Train Loss: 29.120174034782078, Test Loss: 32.12309702237447\n",
      "Epoch: 51/100, Train Loss: 28.80567472913991, Test Loss: 31.506489117940266\n",
      "Epoch: 52/100, Train Loss: 29.271204969157342, Test Loss: 32.5684429804484\n",
      "Epoch: 53/100, Train Loss: 28.840867830359418, Test Loss: 32.91593345006307\n",
      "Epoch: 54/100, Train Loss: 29.081576409547225, Test Loss: 31.895665486653645\n",
      "Epoch: 55/100, Train Loss: 28.964863134467084, Test Loss: 32.347752809524536\n",
      "Epoch: 56/100, Train Loss: 28.738508058630902, Test Loss: 31.897333304087322\n",
      "Epoch: 57/100, Train Loss: 28.858032330222752, Test Loss: 32.03229268391927\n",
      "Epoch: 58/100, Train Loss: 28.87312136525693, Test Loss: 31.929792086283367\n",
      "Epoch: 59/100, Train Loss: 29.170546635337498, Test Loss: 30.929059108098347\n",
      "Epoch: 60/100, Train Loss: 29.432091526363205, Test Loss: 31.488096475601196\n",
      "Epoch: 61/100, Train Loss: 29.144543170928955, Test Loss: 32.54258632659912\n",
      "Epoch: 62/100, Train Loss: 28.997567871342536, Test Loss: 31.114980061848957\n",
      "Epoch: 63/100, Train Loss: 29.370749950408936, Test Loss: 31.250421047210693\n",
      "Epoch: 64/100, Train Loss: 29.060173760289732, Test Loss: 31.246848106384277\n",
      "Epoch: 65/100, Train Loss: 29.41540859056556, Test Loss: 33.731959660847984\n",
      "Epoch: 66/100, Train Loss: 28.916767794152964, Test Loss: 31.19617223739624\n",
      "Epoch: 67/100, Train Loss: 28.92224065117214, Test Loss: 31.76068631807963\n",
      "Epoch: 68/100, Train Loss: 29.112260237984035, Test Loss: 31.180002450942993\n",
      "Epoch: 69/100, Train Loss: 29.06780771587206, Test Loss: 32.01226075490316\n",
      "Epoch: 70/100, Train Loss: 29.20267408827077, Test Loss: 32.26465710004171\n",
      "Epoch: 71/100, Train Loss: 28.80970795258232, Test Loss: 32.20752477645874\n",
      "Epoch: 72/100, Train Loss: 28.80950467482857, Test Loss: 31.635103702545166\n",
      "Epoch: 73/100, Train Loss: 28.800831711810567, Test Loss: 32.56622886657715\n",
      "Epoch: 74/100, Train Loss: 29.064062077066172, Test Loss: 31.839646975199383\n",
      "Epoch: 75/100, Train Loss: 29.10101077867591, Test Loss: 31.337729771931965\n",
      "Epoch: 76/100, Train Loss: 29.295385899751082, Test Loss: 31.282732327779133\n",
      "Epoch: 77/100, Train Loss: 29.220001054846723, Test Loss: 31.57058588663737\n",
      "Epoch: 78/100, Train Loss: 28.947749635447625, Test Loss: 32.23478174209595\n",
      "Epoch: 79/100, Train Loss: 28.865418952444326, Test Loss: 31.5890310605367\n",
      "Epoch: 80/100, Train Loss: 28.80881292923637, Test Loss: 31.425611178080242\n",
      "Epoch: 81/100, Train Loss: 29.326963673467223, Test Loss: 31.21421750386556\n",
      "Epoch: 82/100, Train Loss: 28.672392295754474, Test Loss: 32.16059708595276\n",
      "Epoch: 83/100, Train Loss: 29.0852252918741, Test Loss: 32.60897668202718\n",
      "Epoch: 84/100, Train Loss: 28.910205768502276, Test Loss: 31.000171105066936\n",
      "Epoch: 85/100, Train Loss: 29.129809690558393, Test Loss: 30.771828492482502\n",
      "Epoch: 86/100, Train Loss: 28.939909945363585, Test Loss: 31.836283683776855\n",
      "Epoch: 87/100, Train Loss: 29.133210866347603, Test Loss: 31.53652747472127\n",
      "Epoch: 88/100, Train Loss: 29.454012518343717, Test Loss: 31.175148169199627\n",
      "Epoch: 89/100, Train Loss: 29.067671755085822, Test Loss: 32.60201724370321\n",
      "Epoch: 90/100, Train Loss: 28.87428611257802, Test Loss: 31.193031152089436\n",
      "Epoch: 91/100, Train Loss: 29.191990562107254, Test Loss: 31.448585510253906\n",
      "Epoch: 92/100, Train Loss: 29.291352458622146, Test Loss: 31.61365207036336\n",
      "Epoch: 93/100, Train Loss: 29.288916359777037, Test Loss: 32.90553410847982\n",
      "Epoch: 94/100, Train Loss: 28.82117516061534, Test Loss: 32.41535886128744\n",
      "Epoch: 95/100, Train Loss: 29.210585511249043, Test Loss: 31.8427840868632\n",
      "Epoch: 96/100, Train Loss: 29.195169137871783, Test Loss: 30.95197590192159\n",
      "Epoch: 97/100, Train Loss: 28.83202768408734, Test Loss: 31.682644208272297\n",
      "Epoch: 98/100, Train Loss: 28.930291258770488, Test Loss: 31.899856567382812\n",
      "Epoch: 99/100, Train Loss: 28.94496486497962, Test Loss: 31.799899021784466\n",
      "Epoch: 100/100, Train Loss: 29.329079234081767, Test Loss: 31.920115152994793\n"
     ]
    }
   ],
   "source": [
    "model = WeatherModel(len(df.columns), 64, 1).to(DEVICE)\n",
    "\n",
    "# Loss and Optimizer\n",
    "\n",
    "criterion = nn.MSELoss()\n",
    "optimizer = optim.Adam(model.parameters(), lr=0.001)\n",
    "\n",
    "# Training\n",
    "\n",
    "def train(model, dataloader, criterion, optimizer):\n",
    "    model.train()\n",
    "    running_loss = 0.0\n",
    "    for i, data in enumerate(dataloader):\n",
    "        features, target = data\n",
    "        features, target = features.float().to(DEVICE), target.float().to(DEVICE)\n",
    "        optimizer.zero_grad()\n",
    "        output = model(features)\n",
    "        loss = criterion(output, target.unsqueeze(1))\n",
    "        loss.backward()\n",
    "        optimizer.step()\n",
    "        running_loss += loss.item()\n",
    "    return running_loss / len(dataloader)\n",
    "\n",
    "def test(model, dataloader, criterion):\n",
    "    model.eval()\n",
    "    running_loss = 0.0\n",
    "    with torch.no_grad():\n",
    "        for i, data in enumerate(dataloader):\n",
    "            features, target = data\n",
    "            features, target = features.float().to(DEVICE), target.float().to(DEVICE)\n",
    "            output = model(features)\n",
    "            loss = criterion(output, target.unsqueeze(1))\n",
    "            running_loss += loss.item()\n",
    "    return running_loss / len(dataloader)\n",
    "\n",
    "train_losses = []\n",
    "test_losses = []\n",
    "\n",
    "for epoch in range(EPOCHS):\n",
    "    train_loss = train(model, train_dataloader, criterion, optimizer)\n",
    "    test_loss = test(model, test_dataloader, criterion)\n",
    "    train_losses.append(train_loss)\n",
    "    test_losses.append(test_loss)\n",
    "    print(f\"Epoch: {epoch+1}/{EPOCHS}, Train Loss: {train_loss}, Test Loss: {test_loss}\")"
   ]
  },
  {
   "cell_type": "code",
   "execution_count": 12,
   "metadata": {},
   "outputs": [
    {
     "data": {
      "image/png": "[encoded data removed]",
      "text/plain": [
       "<Figure size 640x480 with 1 Axes>"
      ]
     },
     "metadata": {},
     "output_type": "display_data"
    }
   ],
   "source": [
    "# plot\n",
    "plt.plot(train_losses, label='Train Loss')\n",
    "plt.plot(test_losses, label='Test Loss')\n",
    "plt.legend()\n",
    "plt.show()"
   ]
  },
  {
   "cell_type": "code",
   "execution_count": 13,
   "metadata": {},
   "outputs": [
    {
     "data": {
      "text/plain": [
       "22.234590530395508"
      ]
     },
     "execution_count": 13,
     "metadata": {},
     "output_type": "execute_result"
    }
   ],
   "source": [
    "# predict\n",
    "def predict(model, df, window_size=30):\n",
    "    model.eval()\n",
    "    features = df.iloc[-window_size:].values\n",
    "    features = torch.tensor(features).float().to(DEVICE)\n",
    "    with torch.no_grad():\n",
    "        pred = model(features.unsqueeze(0))\n",
    "    return pred.item()\n",
    "\n",
    "predict(model, df)"
   ]
  },
  {
   "cell_type": "code",
   "execution_count": 14,
   "metadata": {},
   "outputs": [],
   "source": [
    "# save json\n",
    "info = {\n",
    "    \"model_name\": MODEL_NAME,\n",
    "    \"target\": TARGET,\n",
    "    \"features\": df.columns.tolist(),\n",
    "    \"window_size\": 30,\n",
    "    \"train_test_split\": TRAIN_TEST_SPLIT,\n",
    "    \"batch_size\": BATCH_SIZE,\n",
    "    \"epochs\": EPOCHS,\n",
    "    \"device\": DEVICE.type,\n",
    "    \"train_loss\": train_losses,\n",
    "    \"test_loss\": test_losses\n",
    "}\n",
    "\n",
    "with open(f\"results/{MODEL_NAME}.json\", \"w\") as f:\n",
    "    json.dump(info, f)"
   ]
  }
 ],
 "metadata": {
  "kernelspec": {
   "display_name": "Python 3",
   "language": "python",
   "name": "python3"
  },
  "language_info": {
   "codemirror_mode": {
    "name": "ipython",
    "version": 3
   },
   "file_extension": ".py",
   "mimetype": "text/x-python",
   "name": "python",
   "nbconvert_exporter": "python",
   "pygments_lexer": "ipython3",
   "version": "3.11.8"
  }
 },
 "nbformat": 4,
 "nbformat_minor": 2
}
