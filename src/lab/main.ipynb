{
 "cells": [
  {
   "cell_type": "code",
   "execution_count": 1,
   "metadata": {},
   "outputs": [],
   "source": [
    "import json\n",
    "import warnings\n",
    "import pandas as pd\n",
    "import numpy as np\n",
    "import matplotlib.pyplot as plt\n",
    "\n",
    "# Torch\n",
    "import torch\n",
    "from torch import nn\n",
    "from torch import optim\n",
    "from torch.nn import functional as F\n",
    "from torch.utils.data import random_split\n",
    "from torch.utils.data import DataLoader, Dataset"
   ]
  },
  {
   "cell_type": "code",
   "execution_count": 2,
   "metadata": {},
   "outputs": [],
   "source": [
    "# model\n",
    "from model import LTSFLinear"
   ]
  },
  {
   "cell_type": "code",
   "execution_count": 3,
   "metadata": {},
   "outputs": [],
   "source": [
    "warnings.filterwarnings(\"ignore\")"
   ]
  },
  {
   "cell_type": "code",
   "execution_count": 4,
   "metadata": {},
   "outputs": [],
   "source": [
    "BATCH_SIZE = 8\n",
    "EPOCHS = 100\n",
    "TRAIN_TEST_SPLIT = 0.8\n",
    "DEVICE = torch.device(\"cuda\" if torch.cuda.is_available() else \"cpu\")\n",
    "MODEL_NAME = \"basic_ltsf_linear\""
   ]
  },
  {
   "cell_type": "markdown",
   "metadata": {},
   "source": [
    "## Data processing"
   ]
  },
  {
   "cell_type": "code",
   "execution_count": 5,
   "metadata": {},
   "outputs": [
    {
     "data": {
      "text/plain": [
       "Index(['StnPres', 'SeaPres', 'StnPresMax', 'StnPresMaxTime', 'StnPresMin',\n",
       "       'StnPresMinTime', 'Temperature', 'T Max', 'T Max Time', 'T Min',\n",
       "       'T Min Time', 'Td dew point', 'RH', 'RHMin', 'RHMinTime', 'WS', 'WD',\n",
       "       'WSGust', 'WDGust', 'WGustTime', 'Precp', 'PrecpHour', 'PrecpMax10',\n",
       "       'PrecpMax10Time', 'PrecpMax60', 'PrecpMax60Time', 'SunShine',\n",
       "       'SunshineRate', 'GloblRad', 'VisbMean', 'EvapA', 'UVI Max',\n",
       "       'UVI Max Time', 'Cloud Amount', 'TxSoil0cm', 'TxSoil5cm', 'TxSoil10cm',\n",
       "       'TxSoil20cm', 'TxSoil30cm', 'TxSoil50cm', 'TxSoil100cm'],\n",
       "      dtype='object')"
      ]
     },
     "execution_count": 5,
     "metadata": {},
     "output_type": "execute_result"
    }
   ],
   "source": [
    "df = pd.read_csv('./data/agg_data.csv')\n",
    "df.columns"
   ]
  },
  {
   "cell_type": "code",
   "execution_count": 6,
   "metadata": {},
   "outputs": [],
   "source": [
    "DROP_COL = [\"StnPresMaxTime\",\"StnPresMinTime\",\"T Max Time\",\"UVI Max Time\",\"T Min Time\",\"RHMinTime\",\"WGustTime\",\"PrecpMax10Time\",\"PrecpMax60Time\"]\n",
    "df = df.drop(DROP_COL, axis=1)"
   ]
  },
  {
   "cell_type": "code",
   "execution_count": 7,
   "metadata": {},
   "outputs": [],
   "source": [
    "df['EvapA'] = df['EvapA'].replace('/', 0)\n",
    "df['EvapA'] = df['EvapA'].astype(float)\n",
    "df['Precp'] = df['Precp'].replace('T', 0)\n",
    "df['Precp'] = df['Precp'].astype(float)\n",
    "df['PrecpMax10'] = df['PrecpMax10'].replace('T', 0)\n",
    "df['PrecpMax10'] = df['PrecpMax10'].astype(float)\n",
    "df['PrecpMax60'] = df['PrecpMax60'].replace('T', 0)\n",
    "df['PrecpMax60'] = df['PrecpMax60'].astype(float)"
   ]
  },
  {
   "cell_type": "code",
   "execution_count": 8,
   "metadata": {},
   "outputs": [
    {
     "data": {
      "text/html": [
       "<div>\n",
       "<style scoped>\n",
       "    .dataframe tbody tr th:only-of-type {\n",
       "        vertical-align: middle;\n",
       "    }\n",
       "\n",
       "    .dataframe tbody tr th {\n",
       "        vertical-align: top;\n",
       "    }\n",
       "\n",
       "    .dataframe thead th {\n",
       "        text-align: right;\n",
       "    }\n",
       "</style>\n",
       "<table border=\"1\" class=\"dataframe\">\n",
       "  <thead>\n",
       "    <tr style=\"text-align: right;\">\n",
       "      <th></th>\n",
       "      <th>StnPres</th>\n",
       "      <th>SeaPres</th>\n",
       "      <th>StnPresMax</th>\n",
       "      <th>StnPresMin</th>\n",
       "      <th>Temperature</th>\n",
       "      <th>T Max</th>\n",
       "      <th>T Min</th>\n",
       "      <th>Td dew point</th>\n",
       "      <th>RH</th>\n",
       "      <th>RHMin</th>\n",
       "      <th>...</th>\n",
       "      <th>EvapA</th>\n",
       "      <th>UVI Max</th>\n",
       "      <th>Cloud Amount</th>\n",
       "      <th>TxSoil0cm</th>\n",
       "      <th>TxSoil5cm</th>\n",
       "      <th>TxSoil10cm</th>\n",
       "      <th>TxSoil20cm</th>\n",
       "      <th>TxSoil30cm</th>\n",
       "      <th>TxSoil50cm</th>\n",
       "      <th>TxSoil100cm</th>\n",
       "    </tr>\n",
       "  </thead>\n",
       "  <tbody>\n",
       "    <tr>\n",
       "      <th>0</th>\n",
       "      <td>1011.3</td>\n",
       "      <td>1013.8</td>\n",
       "      <td>1012.5</td>\n",
       "      <td>1010.5</td>\n",
       "      <td>27.4</td>\n",
       "      <td>32.2</td>\n",
       "      <td>24.7</td>\n",
       "      <td>25.3</td>\n",
       "      <td>89</td>\n",
       "      <td>62</td>\n",
       "      <td>...</td>\n",
       "      <td>5.3</td>\n",
       "      <td>9</td>\n",
       "      <td>3.0</td>\n",
       "      <td>27.9</td>\n",
       "      <td>27.9</td>\n",
       "      <td>27.7</td>\n",
       "      <td>27.7</td>\n",
       "      <td>28.5</td>\n",
       "      <td>27.8</td>\n",
       "      <td>27.7</td>\n",
       "    </tr>\n",
       "    <tr>\n",
       "      <th>1</th>\n",
       "      <td>1011.1</td>\n",
       "      <td>1013.6</td>\n",
       "      <td>1012.4</td>\n",
       "      <td>1010.0</td>\n",
       "      <td>27.7</td>\n",
       "      <td>31.5</td>\n",
       "      <td>24.7</td>\n",
       "      <td>25.5</td>\n",
       "      <td>88</td>\n",
       "      <td>63</td>\n",
       "      <td>...</td>\n",
       "      <td>4.2</td>\n",
       "      <td>9</td>\n",
       "      <td>0.8</td>\n",
       "      <td>28.3</td>\n",
       "      <td>28.3</td>\n",
       "      <td>27.7</td>\n",
       "      <td>27.7</td>\n",
       "      <td>28.6</td>\n",
       "      <td>27.9</td>\n",
       "      <td>27.8</td>\n",
       "    </tr>\n",
       "    <tr>\n",
       "      <th>2</th>\n",
       "      <td>1010.8</td>\n",
       "      <td>1013.3</td>\n",
       "      <td>1012.1</td>\n",
       "      <td>1009.6</td>\n",
       "      <td>27.6</td>\n",
       "      <td>31.2</td>\n",
       "      <td>25.0</td>\n",
       "      <td>25.5</td>\n",
       "      <td>89</td>\n",
       "      <td>67</td>\n",
       "      <td>...</td>\n",
       "      <td>4.9</td>\n",
       "      <td>9</td>\n",
       "      <td>2.6</td>\n",
       "      <td>28.3</td>\n",
       "      <td>28.3</td>\n",
       "      <td>27.9</td>\n",
       "      <td>27.9</td>\n",
       "      <td>28.7</td>\n",
       "      <td>28.0</td>\n",
       "      <td>27.8</td>\n",
       "    </tr>\n",
       "    <tr>\n",
       "      <th>3</th>\n",
       "      <td>1011.0</td>\n",
       "      <td>1013.5</td>\n",
       "      <td>1012.8</td>\n",
       "      <td>1009.5</td>\n",
       "      <td>28.1</td>\n",
       "      <td>32.1</td>\n",
       "      <td>25.1</td>\n",
       "      <td>24.9</td>\n",
       "      <td>83</td>\n",
       "      <td>62</td>\n",
       "      <td>...</td>\n",
       "      <td>-5.7</td>\n",
       "      <td>9</td>\n",
       "      <td>1.8</td>\n",
       "      <td>28.4</td>\n",
       "      <td>28.4</td>\n",
       "      <td>27.9</td>\n",
       "      <td>27.9</td>\n",
       "      <td>28.8</td>\n",
       "      <td>28.1</td>\n",
       "      <td>27.9</td>\n",
       "    </tr>\n",
       "    <tr>\n",
       "      <th>4</th>\n",
       "      <td>1012.6</td>\n",
       "      <td>1015.1</td>\n",
       "      <td>1014.6</td>\n",
       "      <td>1011.0</td>\n",
       "      <td>27.0</td>\n",
       "      <td>31.2</td>\n",
       "      <td>24.5</td>\n",
       "      <td>24.3</td>\n",
       "      <td>86</td>\n",
       "      <td>64</td>\n",
       "      <td>...</td>\n",
       "      <td>-5.3</td>\n",
       "      <td>10</td>\n",
       "      <td>5.8</td>\n",
       "      <td>28.0</td>\n",
       "      <td>28.0</td>\n",
       "      <td>27.8</td>\n",
       "      <td>27.9</td>\n",
       "      <td>28.8</td>\n",
       "      <td>28.1</td>\n",
       "      <td>28.0</td>\n",
       "    </tr>\n",
       "  </tbody>\n",
       "</table>\n",
       "<p>5 rows × 32 columns</p>\n",
       "</div>"
      ],
      "text/plain": [
       "   StnPres  SeaPres  StnPresMax  StnPresMin  Temperature  T Max  T Min  \\\n",
       "0   1011.3   1013.8      1012.5      1010.5         27.4   32.2   24.7   \n",
       "1   1011.1   1013.6      1012.4      1010.0         27.7   31.5   24.7   \n",
       "2   1010.8   1013.3      1012.1      1009.6         27.6   31.2   25.0   \n",
       "3   1011.0   1013.5      1012.8      1009.5         28.1   32.1   25.1   \n",
       "4   1012.6   1015.1      1014.6      1011.0         27.0   31.2   24.5   \n",
       "\n",
       "   Td dew point  RH  RHMin  ...  EvapA  UVI Max  Cloud Amount  TxSoil0cm  \\\n",
       "0          25.3  89     62  ...    5.3        9           3.0       27.9   \n",
       "1          25.5  88     63  ...    4.2        9           0.8       28.3   \n",
       "2          25.5  89     67  ...    4.9        9           2.6       28.3   \n",
       "3          24.9  83     62  ...   -5.7        9           1.8       28.4   \n",
       "4          24.3  86     64  ...   -5.3       10           5.8       28.0   \n",
       "\n",
       "   TxSoil5cm  TxSoil10cm  TxSoil20cm  TxSoil30cm  TxSoil50cm  TxSoil100cm  \n",
       "0       27.9        27.7        27.7        28.5        27.8         27.7  \n",
       "1       28.3        27.7        27.7        28.6        27.9         27.8  \n",
       "2       28.3        27.9        27.9        28.7        28.0         27.8  \n",
       "3       28.4        27.9        27.9        28.8        28.1         27.9  \n",
       "4       28.0        27.8        27.9        28.8        28.1         28.0  \n",
       "\n",
       "[5 rows x 32 columns]"
      ]
     },
     "execution_count": 8,
     "metadata": {},
     "output_type": "execute_result"
    }
   ],
   "source": [
    "df.head()"
   ]
  },
  {
   "cell_type": "code",
   "execution_count": 9,
   "metadata": {},
   "outputs": [],
   "source": [
    "TARGET = \"Temperature\""
   ]
  },
  {
   "cell_type": "markdown",
   "metadata": {},
   "source": [
    "# Make dataset"
   ]
  },
  {
   "cell_type": "code",
   "execution_count": 10,
   "metadata": {},
   "outputs": [],
   "source": [
    "class WeatherDataset(Dataset):\n",
    "    def __init__(self, df, target, window_size=30):\n",
    "        self.df = df\n",
    "        self.target = target\n",
    "        self.window_size = window_size\n",
    "        self.features = df.columns\n",
    "\n",
    "    def __len__(self):\n",
    "        return len(self.df) - self.window_size - 1\n",
    "    \n",
    "    def __getitem__(self, idx):\n",
    "        idx += self.window_size\n",
    "        window = self.df.iloc[idx-self.window_size:idx]\n",
    "        target = self.df.iloc[idx+1][self.target]\n",
    "        features = window[self.features].values\n",
    "        return features, target\n",
    "    \n",
    "dataset = WeatherDataset(df, TARGET)\n",
    "train_size = int(TRAIN_TEST_SPLIT * len(dataset))\n",
    "test_size = len(dataset) - train_size\n",
    "train_dataset, test_dataset = random_split(dataset, [train_size, test_size])\n",
    "train_dataloader = DataLoader(train_dataset, batch_size=BATCH_SIZE, shuffle=True)\n",
    "test_dataloader = DataLoader(test_dataset, batch_size=BATCH_SIZE, shuffle=True)"
   ]
  },
  {
   "cell_type": "code",
   "execution_count": 11,
   "metadata": {},
   "outputs": [
    {
     "name": "stdout",
     "output_type": "stream",
     "text": [
      "Input Shape: torch.Size([8, 30, 32]), Target Shape: torch.Size([8])\n"
     ]
    }
   ],
   "source": [
    "for idx,(features, target) in enumerate(train_dataloader):\n",
    "    print(f\"Input Shape: {features.shape}, Target Shape: {target.shape}\")\n",
    "    break"
   ]
  },
  {
   "cell_type": "code",
   "execution_count": 12,
   "metadata": {},
   "outputs": [
    {
     "name": "stdout",
     "output_type": "stream",
     "text": [
      "torch.Size([8, 1])\n"
     ]
    }
   ],
   "source": [
    "# Model\n",
    "# class WeatherModel(nn.Module):\n",
    "#     def __init__(self, input_size, hidden_size, output_size):\n",
    "#         super(WeatherModel, self).__init__()\n",
    "#         self.lstm = nn.LSTM(input_size, hidden_size, batch_first=True)\n",
    "#         self.fc = nn.Linear(hidden_size, output_size)\n",
    "        \n",
    "#     def forward(self, x):\n",
    "#         x, _ = self.lstm(x)\n",
    "#         x = self.fc(x[:, -1])\n",
    "#         return x\n",
    "\n",
    "class WeatherModel(nn.Module):\n",
    "    def __init__(self, input_size, hidden_size, output_size):\n",
    "        super(WeatherModel, self).__init__()\n",
    "        self.transformer = nn.Transformer(d_model=input_size, nhead=8, num_encoder_layers=6, num_decoder_layers=6, dim_feedforward=512, dropout=0.1)\n",
    "        self.fc = nn.Linear(input_size, output_size)\n",
    "        \n",
    "    def forward(self, x):\n",
    "        x = self.transformer(x, x)\n",
    "        x = self.fc(x)\n",
    "        x = x[:, -1]\n",
    "        return x\n",
    "    \n",
    "class WeatherModel_with_LTSF(nn.Module):\n",
    "    def __init__(self, seq_len, pred_len, enc_in):\n",
    "        super(WeatherModel_with_LTSF, self).__init__()\n",
    "        self.LTSF = LTSFLinear(configs={\"seq_len\": seq_len, \"pred_len\": pred_len, \"enc_in\": enc_in, \"individual\": False})\n",
    "        self.linear = nn.Linear(enc_in, 1)\n",
    "\n",
    "    def forward(self, x):\n",
    "        x = self.LTSF(x)\n",
    "        x = x.squeeze(1)\n",
    "        x = F.gelu(x)\n",
    "        x = self.linear(x)\n",
    "        return x\n",
    "    \n",
    "test_input = torch.randn(8, 30, 32)\n",
    "# model = WeatherModel(32, 64, 1)\n",
    "model = WeatherModel_with_LTSF(30, 1, 32)\n",
    "out = model(test_input)\n",
    "print(out.shape)"
   ]
  },
  {
   "cell_type": "code",
   "execution_count": 13,
   "metadata": {},
   "outputs": [
    {
     "name": "stdout",
     "output_type": "stream",
     "text": [
      "Epoch: 1/100, Train Loss: 358.6207245536472, Test Loss: 324.83877817789715\n",
      "Epoch: 2/100, Train Loss: 290.64226299783456, Test Loss: 257.43968264261883\n",
      "Epoch: 3/100, Train Loss: 223.92205445662788, Test Loss: 196.624875386556\n",
      "Epoch: 4/100, Train Loss: 158.6505365786345, Test Loss: 133.49322064717612\n",
      "Epoch: 5/100, Train Loss: 104.47484149103579, Test Loss: 86.25994714101155\n",
      "Epoch: 6/100, Train Loss: 66.7523596805075, Test Loss: 59.94179598490397\n",
      "Epoch: 7/100, Train Loss: 44.54606939398724, Test Loss: 42.36438814798991\n",
      "Epoch: 8/100, Train Loss: 33.816859390424646, Test Loss: 35.94686698913574\n",
      "Epoch: 9/100, Train Loss: 30.07000618395598, Test Loss: 32.9942413965861\n",
      "Epoch: 10/100, Train Loss: 29.19390162177708, Test Loss: 33.62889130910238\n",
      "Epoch: 11/100, Train Loss: 28.670654099920522, Test Loss: 32.499969164530434\n",
      "Epoch: 12/100, Train Loss: 28.961766035660453, Test Loss: 33.00458161036173\n",
      "Epoch: 13/100, Train Loss: 28.882969255032748, Test Loss: 33.1618324915568\n",
      "Epoch: 14/100, Train Loss: 28.698696924292523, Test Loss: 33.220224698384605\n",
      "Epoch: 15/100, Train Loss: 28.64623384890349, Test Loss: 32.627444903055824\n",
      "Epoch: 16/100, Train Loss: 28.933913645537004, Test Loss: 34.14630254109701\n",
      "Epoch: 17/100, Train Loss: 28.723312626714293, Test Loss: 32.860421339670815\n",
      "Epoch: 18/100, Train Loss: 28.900981882344123, Test Loss: 33.86027733484904\n",
      "Epoch: 19/100, Train Loss: 28.80201600945514, Test Loss: 32.59871037801107\n",
      "Epoch: 20/100, Train Loss: 28.751376110574473, Test Loss: 32.28638712565104\n",
      "Epoch: 21/100, Train Loss: 28.98621934393178, Test Loss: 34.110515117645264\n",
      "Epoch: 22/100, Train Loss: 28.696619987487793, Test Loss: 32.871928691864014\n",
      "Epoch: 23/100, Train Loss: 28.84460059456203, Test Loss: 32.55594301223755\n",
      "Epoch: 24/100, Train Loss: 28.796226190484088, Test Loss: 33.02916669845581\n",
      "Epoch: 25/100, Train Loss: 28.645268170729928, Test Loss: 32.33792018890381\n",
      "Epoch: 26/100, Train Loss: 28.62222851877627, Test Loss: 33.825819651285805\n",
      "Epoch: 27/100, Train Loss: 28.692862655805506, Test Loss: 32.37468973795573\n",
      "Epoch: 28/100, Train Loss: 28.78626835864523, Test Loss: 35.497578144073486\n",
      "Epoch: 29/100, Train Loss: 28.861435475556746, Test Loss: 33.25291617711385\n",
      "Epoch: 30/100, Train Loss: 28.809703096099522, Test Loss: 32.65578651428223\n",
      "Epoch: 31/100, Train Loss: 28.813620826472405, Test Loss: 32.96147791544596\n",
      "Epoch: 32/100, Train Loss: 28.644346133522365, Test Loss: 33.24801747004191\n",
      "Epoch: 33/100, Train Loss: 28.947017296500828, Test Loss: 32.83204825719198\n",
      "Epoch: 34/100, Train Loss: 28.79317617416382, Test Loss: 33.08138688405355\n",
      "Epoch: 35/100, Train Loss: 28.5862397732942, Test Loss: 34.46319739023844\n",
      "Epoch: 36/100, Train Loss: 29.05397827728935, Test Loss: 32.6770224571228\n",
      "Epoch: 37/100, Train Loss: 28.80278489900672, Test Loss: 32.622029622395836\n",
      "Epoch: 38/100, Train Loss: 28.850533941517707, Test Loss: 34.8887734413147\n",
      "Epoch: 39/100, Train Loss: 28.896647453308105, Test Loss: 32.064364194869995\n",
      "Epoch: 40/100, Train Loss: 28.74520270720772, Test Loss: 33.53628532091776\n",
      "Epoch: 41/100, Train Loss: 28.960513653962508, Test Loss: 32.3056370417277\n",
      "Epoch: 42/100, Train Loss: 29.285958103511643, Test Loss: 32.86700932184855\n",
      "Epoch: 43/100, Train Loss: 28.72170054394266, Test Loss: 33.03782860438029\n",
      "Epoch: 44/100, Train Loss: 28.960141347802203, Test Loss: 33.02861396471659\n",
      "Epoch: 45/100, Train Loss: 28.730384080306344, Test Loss: 33.193363189697266\n",
      "Epoch: 46/100, Train Loss: 28.87968998369963, Test Loss: 32.544581731160484\n",
      "Epoch: 47/100, Train Loss: 28.799306206081223, Test Loss: 32.50940990447998\n",
      "Epoch: 48/100, Train Loss: 28.89936840015909, Test Loss: 32.44584838549296\n",
      "Epoch: 49/100, Train Loss: 28.68559223672618, Test Loss: 33.67478315035502\n",
      "Epoch: 50/100, Train Loss: 28.807825710462488, Test Loss: 33.47272968292236\n",
      "Epoch: 51/100, Train Loss: 28.832683355911918, Test Loss: 33.05031863848368\n",
      "Epoch: 52/100, Train Loss: 29.04060048642366, Test Loss: 32.2709124883016\n",
      "Epoch: 53/100, Train Loss: 28.769532141478166, Test Loss: 32.96048164367676\n",
      "Epoch: 54/100, Train Loss: 28.45766316289487, Test Loss: 34.24365520477295\n",
      "Epoch: 55/100, Train Loss: 28.491465920987338, Test Loss: 32.16492470105489\n",
      "Epoch: 56/100, Train Loss: 28.884993843410324, Test Loss: 33.49688466389974\n",
      "Epoch: 57/100, Train Loss: 29.03146559259166, Test Loss: 33.393335819244385\n",
      "Epoch: 58/100, Train Loss: 28.804409275884215, Test Loss: 32.0290097395579\n",
      "Epoch: 59/100, Train Loss: 29.116375218267027, Test Loss: 33.146069367726646\n",
      "Epoch: 60/100, Train Loss: 28.638157803079356, Test Loss: 33.1585058371226\n",
      "Epoch: 61/100, Train Loss: 28.694548897121262, Test Loss: 33.14093557993571\n",
      "Epoch: 62/100, Train Loss: 29.061625978221063, Test Loss: 31.944239656130474\n",
      "Epoch: 63/100, Train Loss: 29.014744882998258, Test Loss: 32.93611001968384\n",
      "Epoch: 64/100, Train Loss: 28.806659574094027, Test Loss: 32.57960224151611\n",
      "Epoch: 65/100, Train Loss: 28.48725934650587, Test Loss: 33.6795334815979\n",
      "Epoch: 66/100, Train Loss: 28.818620619566545, Test Loss: 32.74478816986084\n",
      "Epoch: 67/100, Train Loss: 28.810048352117125, Test Loss: 32.90888818105062\n",
      "Epoch: 68/100, Train Loss: 28.66042627458987, Test Loss: 32.04603107770284\n",
      "Epoch: 69/100, Train Loss: 28.567793452221416, Test Loss: 33.05557036399841\n",
      "Epoch: 70/100, Train Loss: 28.826265770456065, Test Loss: 34.05307539304098\n",
      "Epoch: 71/100, Train Loss: 28.70889669915904, Test Loss: 32.75045450528463\n",
      "Epoch: 72/100, Train Loss: 28.686342508896537, Test Loss: 32.63899175326029\n",
      "Epoch: 73/100, Train Loss: 28.892778044161588, Test Loss: 32.44035824139913\n",
      "Epoch: 74/100, Train Loss: 28.677740698275358, Test Loss: 34.86556649208069\n",
      "Epoch: 75/100, Train Loss: 28.942523904468704, Test Loss: 32.91553020477295\n",
      "Epoch: 76/100, Train Loss: 28.300413380498473, Test Loss: 34.097887674967446\n",
      "Epoch: 77/100, Train Loss: 28.73745648757271, Test Loss: 33.731373151143394\n",
      "Epoch: 78/100, Train Loss: 28.962071543154508, Test Loss: 33.19823280970255\n",
      "Epoch: 79/100, Train Loss: 28.863712186398715, Test Loss: 32.95559517542521\n",
      "Epoch: 80/100, Train Loss: 29.013282485630203, Test Loss: 33.675509770711265\n",
      "Epoch: 81/100, Train Loss: 28.571915294813074, Test Loss: 32.24435170491537\n",
      "Epoch: 82/100, Train Loss: 29.10499276285586, Test Loss: 33.09334055582682\n",
      "Epoch: 83/100, Train Loss: 28.825281972470492, Test Loss: 32.63205806414286\n",
      "Epoch: 84/100, Train Loss: 29.076750423597254, Test Loss: 32.706458727518715\n",
      "Epoch: 85/100, Train Loss: 28.70697369782821, Test Loss: 32.82956043879191\n",
      "Epoch: 86/100, Train Loss: 28.51686169790185, Test Loss: 32.63822937011719\n",
      "Epoch: 87/100, Train Loss: 28.896116588426672, Test Loss: 33.659435431162514\n",
      "Epoch: 88/100, Train Loss: 28.869417968003646, Test Loss: 32.24283138910929\n",
      "Epoch: 89/100, Train Loss: 28.961188855378523, Test Loss: 33.93946282068888\n",
      "Epoch: 90/100, Train Loss: 28.780955687813137, Test Loss: 32.58414634068807\n",
      "Epoch: 91/100, Train Loss: 28.73518303166265, Test Loss: 32.87664349873861\n",
      "Epoch: 92/100, Train Loss: 28.687039831410285, Test Loss: 32.49065319697062\n",
      "Epoch: 93/100, Train Loss: 28.950810743414838, Test Loss: 32.43875694274902\n",
      "Epoch: 94/100, Train Loss: 28.61766010781993, Test Loss: 34.89286390940348\n",
      "Epoch: 95/100, Train Loss: 28.66810657667077, Test Loss: 32.82930517196655\n",
      "Epoch: 96/100, Train Loss: 28.75298605794492, Test Loss: 34.56511147816976\n",
      "Epoch: 97/100, Train Loss: 29.015489744103473, Test Loss: 32.805582205454506\n",
      "Epoch: 98/100, Train Loss: 28.750718821649965, Test Loss: 32.47649049758911\n",
      "Epoch: 99/100, Train Loss: 28.98785800519197, Test Loss: 34.00372823079427\n",
      "Epoch: 100/100, Train Loss: 28.777146961378016, Test Loss: 34.05307308832804\n"
     ]
    }
   ],
   "source": [
    "model = WeatherModel(len(df.columns), 64, 1).to(DEVICE)\n",
    "\n",
    "# Loss and Optimizer\n",
    "\n",
    "criterion = nn.MSELoss()\n",
    "optimizer = optim.Adam(model.parameters(), lr=0.001)\n",
    "\n",
    "# Training\n",
    "\n",
    "def train(model, dataloader, criterion, optimizer):\n",
    "    model.train()\n",
    "    running_loss = 0.0\n",
    "    for i, data in enumerate(dataloader):\n",
    "        features, target = data\n",
    "        features, target = features.float().to(DEVICE), target.float().to(DEVICE)\n",
    "        optimizer.zero_grad()\n",
    "        output = model(features)\n",
    "        loss = criterion(output, target.unsqueeze(1))\n",
    "        loss.backward()\n",
    "        optimizer.step()\n",
    "        running_loss += loss.item()\n",
    "    return running_loss / len(dataloader)\n",
    "\n",
    "def test(model, dataloader, criterion):\n",
    "    model.eval()\n",
    "    running_loss = 0.0\n",
    "    with torch.no_grad():\n",
    "        for i, data in enumerate(dataloader):\n",
    "            features, target = data\n",
    "            features, target = features.float().to(DEVICE), target.float().to(DEVICE)\n",
    "            output = model(features)\n",
    "            loss = criterion(output, target.unsqueeze(1))\n",
    "            running_loss += loss.item()\n",
    "    return running_loss / len(dataloader)\n",
    "\n",
    "train_losses = []\n",
    "test_losses = []\n",
    "\n",
    "for epoch in range(EPOCHS):\n",
    "    train_loss = train(model, train_dataloader, criterion, optimizer)\n",
    "    test_loss = test(model, test_dataloader, criterion)\n",
    "    train_losses.append(train_loss)\n",
    "    test_losses.append(test_loss)\n",
    "    print(f\"Epoch: {epoch+1}/{EPOCHS}, Train Loss: {train_loss}, Test Loss: {test_loss}\")"
   ]
  },
  {
   "cell_type": "code",
   "execution_count": 14,
   "metadata": {},
   "outputs": [
    {
     "data": {
      "image/png": "[encoded data removed]",
      "text/plain": [
       "<Figure size 640x480 with 1 Axes>"
      ]
     },
     "metadata": {},
     "output_type": "display_data"
    }
   ],
   "source": [
    "# plot\n",
    "plt.plot(train_losses, label='Train Loss')\n",
    "plt.plot(test_losses, label='Test Loss')\n",
    "plt.legend()\n",
    "plt.show()"
   ]
  },
  {
   "cell_type": "code",
   "execution_count": 15,
   "metadata": {},
   "outputs": [
    {
     "data": {
      "text/plain": [
       "22.150609970092773"
      ]
     },
     "execution_count": 15,
     "metadata": {},
     "output_type": "execute_result"
    }
   ],
   "source": [
    "# predict\n",
    "def predict(model, df, window_size=30):\n",
    "    model.eval()\n",
    "    features = df.iloc[-window_size:].values\n",
    "    features = torch.tensor(features).float().to(DEVICE)\n",
    "    with torch.no_grad():\n",
    "        pred = model(features.unsqueeze(0))\n",
    "    return pred.item()\n",
    "\n",
    "predict(model, df)"
   ]
  },
  {
   "cell_type": "code",
   "execution_count": 16,
   "metadata": {},
   "outputs": [
    {
     "name": "stdout",
     "output_type": "stream",
     "text": [
      "error of prediction temperature: +- 5.835501100019435\n"
     ]
    }
   ],
   "source": [
    "from math import sqrt\n",
    "latest_test_loss = test_losses[-1]\n",
    "print(f\"error of prediction temperature: +- {sqrt(latest_test_loss)}\")"
   ]
  },
  {
   "cell_type": "code",
   "execution_count": 17,
   "metadata": {},
   "outputs": [],
   "source": [
    "# save json\n",
    "info = {\n",
    "    \"model_name\": MODEL_NAME,\n",
    "    \"target\": TARGET,\n",
    "    \"features\": df.columns.tolist(),\n",
    "    \"window_size\": 30,\n",
    "    \"train_test_split\": TRAIN_TEST_SPLIT,\n",
    "    \"batch_size\": BATCH_SIZE,\n",
    "    \"epochs\": EPOCHS,\n",
    "    \"device\": DEVICE.type,\n",
    "    \"train_loss\": train_losses,\n",
    "    \"test_loss\": test_losses\n",
    "}\n",
    "\n",
    "with open(f\"results/{MODEL_NAME}.json\", \"w\") as f:\n",
    "    json.dump(info, f)"
   ]
  }
 ],
 "metadata": {
  "kernelspec": {
   "display_name": "Python 3",
   "language": "python",
   "name": "python3"
  },
  "language_info": {
   "codemirror_mode": {
    "name": "ipython",
    "version": 3
   },
   "file_extension": ".py",
   "mimetype": "text/x-python",
   "name": "python",
   "nbconvert_exporter": "python",
   "pygments_lexer": "ipython3",
   "version": "3.11.8"
  }
 },
 "nbformat": 4,
 "nbformat_minor": 2
}
